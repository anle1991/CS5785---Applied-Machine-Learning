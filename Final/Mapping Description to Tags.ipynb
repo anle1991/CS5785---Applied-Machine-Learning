{
 "cells": [
  {
   "cell_type": "code",
   "execution_count": 80,
   "metadata": {
    "collapsed": true
   },
   "outputs": [],
   "source": [
    "import numpy as np"
   ]
  },
  {
   "cell_type": "code",
   "execution_count": 86,
   "metadata": {
    "collapsed": true
   },
   "outputs": [],
   "source": [
    "tag_dict = ['car', 'people', 'table', 'shit']"
   ]
  },
  {
   "cell_type": "code",
   "execution_count": null,
   "metadata": {
    "collapsed": true
   },
   "outputs": [],
   "source": [
    "def mapping_to_tags(tag_dict, feature_BoW):\n",
    "    tags_vector = np.zeros(len(tag_dict), dtype=np.int)\n",
    "    for word in feature_BoW:\n",
    "        if word in tag_dict:\n",
    "            tags_vector[tag_dict.index(word)] = 1\n",
    "    return tags_vector"
   ]
  },
  {
   "cell_type": "code",
   "execution_count": 82,
   "metadata": {
    "collapsed": true
   },
   "outputs": [],
   "source": [
    "tags_vector = mapping_to_tags(tag_dict, ['123', 'the', 'car', 'table'])"
   ]
  },
  {
   "cell_type": "code",
   "execution_count": 83,
   "metadata": {},
   "outputs": [
    {
     "name": "stdout",
     "output_type": "stream",
     "text": [
      "[1 0 1 0]\n"
     ]
    }
   ],
   "source": [
    "print(tags_vector)"
   ]
  },
  {
   "cell_type": "code",
   "execution_count": 84,
   "metadata": {
    "collapsed": true
   },
   "outputs": [],
   "source": [
    "def get_top20_indexs(similarity_array):\n",
    "    sorted_indexs = np.argsort(similarity_array)\n",
    "    return sorted_indexs[:20]"
   ]
  },
  {
   "cell_type": "code",
   "execution_count": null,
   "metadata": {
    "collapsed": true
   },
   "outputs": [],
   "source": [
    "import time\n",
    "import csv\n",
    "\n",
    "def get_timestamp():\n",
    "    millis = int(round(time.time() * 1000))\n",
    "    return millis\n",
    "\n",
    "def create_submission_csv(predictions):\n",
    "    filename = 'submission' + '_' + str(get_timestamp()) + '.csv'\n",
    "    with open(filename, 'w') as csvfile:\n",
    "        writer = csv.writer(csvfile, delimiter=',')\n",
    "        writer.writerow(['Descritpion_ID', 'Top_20_Image_IDs'])\n",
    "        for i in range (0, len(predictions)):\n",
    "            description_id = str(i) + \".txt\"\n",
    "            top20_image_ids = \" \".join(str(index) + '.jpg' for index in predictions[i])\n",
    "            writer.writerow([description_id, top20_image_ids])"
   ]
  },
  {
   "cell_type": "code",
   "execution_count": null,
   "metadata": {
    "collapsed": true
   },
   "outputs": [],
   "source": []
  }
 ],
 "metadata": {
  "kernelspec": {
   "display_name": "Python 3",
   "language": "python",
   "name": "python3"
  },
  "language_info": {
   "codemirror_mode": {
    "name": "ipython",
    "version": 3
   },
   "file_extension": ".py",
   "mimetype": "text/x-python",
   "name": "python",
   "nbconvert_exporter": "python",
   "pygments_lexer": "ipython3",
   "version": "3.6.1"
  }
 },
 "nbformat": 4,
 "nbformat_minor": 2
}
